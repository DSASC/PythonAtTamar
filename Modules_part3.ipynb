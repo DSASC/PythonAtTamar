{
 "cells": [
  {
   "cell_type": "markdown",
   "metadata": {},
   "source": [
    "# 1. פונקציה חדשה - range"
   ]
  },
  {
   "cell_type": "code",
   "execution_count": null,
   "metadata": {},
   "outputs": [],
   "source": [
    "for i in range(2):\n",
    "    print(i)"
   ]
  },
  {
   "cell_type": "markdown",
   "metadata": {},
   "source": [
    "הכינו לולאה שמדפיסה מספרים מ10 עד 20"
   ]
  },
  {
   "cell_type": "code",
   "execution_count": null,
   "metadata": {},
   "outputs": [],
   "source": [
    "#\n",
    "#\n",
    "#\n",
    "#\n",
    "#\n",
    "#"
   ]
  },
  {
   "cell_type": "markdown",
   "metadata": {},
   "source": [
    "# 2. שימוש במודול turtle\n",
    "מודול: turtle   \n",
    "פונקצייה: range()    \n",
    "אובייקט: turtle.Pen()   \n",
    "  \n",
    " turtle.Pen() שיטות של האובייקט    \n",
    " \n",
    "turtle.Pen().forward()     \n",
    "turtle.Pen().left()   \n",
    "  \n",
    "לולאה"
   ]
  },
  {
   "cell_type": "markdown",
   "metadata": {},
   "source": [
    "## <div style=\"text-align: right\"> ספירלה ראשונה </div>"
   ]
  },
  {
   "cell_type": "code",
   "execution_count": null,
   "metadata": {},
   "outputs": [],
   "source": [
    "import turtle\n",
    "t = turtle.Pen()\n",
    "for x in range(100):\n",
    "    t.forward(x)\n",
    "    t.left(90)\n",
    "turtle.done()"
   ]
  },
  {
   "cell_type": "markdown",
   "metadata": {},
   "source": [
    "## <div style=\"text-align: right\"> שאל את המשתמש כמה צלעות לספירלה? </div>"
   ]
  },
  {
   "cell_type": "code",
   "execution_count": null,
   "metadata": {},
   "outputs": [],
   "source": [
    "import turtle\n",
    "\n",
    "t = turtle.Pen()\n",
    "# שאל את המשתמש כמה צלעות בספירלה\n",
    "for x in range(int(input(\"How many sides?\"))):\n",
    "    t.forward(x)\n",
    "    t.left(90)\n",
    "turtle.done()"
   ]
  },
  {
   "cell_type": "markdown",
   "metadata": {},
   "source": [
    "## <div style=\"text-align: right\"> ספירלה עם זוית גדולה יותר </div>"
   ]
  },
  {
   "cell_type": "code",
   "execution_count": null,
   "metadata": {},
   "outputs": [],
   "source": [
    "import turtle\n",
    "\n",
    "t = turtle.Pen()\n",
    "for x in range(100):\n",
    "    t.forward(x)\n",
    "    # הפעם עם זוית גדולה יותר\n",
    "    t.left(91)\n",
    "turtle.done()"
   ]
  },
  {
   "cell_type": "markdown",
   "metadata": {},
   "source": [
    "## <div style=\"text-align: right\"> המשתמש בוחר את הזוית </div>"
   ]
  },
  {
   "cell_type": "code",
   "execution_count": null,
   "metadata": {},
   "outputs": [],
   "source": [
    "import turtle\n",
    "\n",
    "# תן למשתמש לבחור את הזוית\n",
    "\n",
    "t = turtle.Pen()\n",
    "zavit = input(\"Eize Zavit?\")\n",
    "for x in range(100):\n",
    "    t.forward(x)\n",
    "    t.left(int(zavit))\n",
    "    \n",
    "turtle.done()"
   ]
  },
  {
   "cell_type": "markdown",
   "metadata": {},
   "source": [
    "## <div style=\"text-align: right\"> צובעים את הספירלה, משתמשים ברשימת צבעים ובשארית </div>"
   ]
  },
  {
   "cell_type": "code",
   "execution_count": null,
   "metadata": {},
   "outputs": [],
   "source": [
    "import turtle\n",
    "t = turtle.Pen()\n",
    "colors = [\"red\", \"yellow\", \"blue\", \"green\"]\n",
    "for x in range(100):\n",
    "    t.pencolor(colors[x%4])\n",
    "    t.forward(x)\n",
    "    t.left(91)\n",
    "turtle.done()"
   ]
  },
  {
   "cell_type": "markdown",
   "metadata": {},
   "source": [
    "## <div style=\"text-align: right\"> לא אוהבים שאריות </div>"
   ]
  },
  {
   "cell_type": "code",
   "execution_count": null,
   "metadata": {},
   "outputs": [],
   "source": [
    "from itertools import cycle\n",
    "import turtle\n",
    "\n",
    "t = turtle.Pen()\n",
    "colors = cycle([\"red\", \"yellow\", \"blue\", \"green\"])\n",
    "for x in range(100):\n",
    "    t.pencolor(next(colors))\n",
    "    t.forward(x)\n",
    "    t.left(91)\n",
    "turtle.done()\n"
   ]
  }
 ],
 "metadata": {
  "kernelspec": {
   "display_name": "Python 3",
   "language": "python",
   "name": "python3"
  },
  "language_info": {
   "codemirror_mode": {
    "name": "ipython",
    "version": 3
   },
   "file_extension": ".py",
   "mimetype": "text/x-python",
   "name": "python",
   "nbconvert_exporter": "python",
   "pygments_lexer": "ipython3",
   "version": "3.7.3"
  }
 },
 "nbformat": 4,
 "nbformat_minor": 2
}
