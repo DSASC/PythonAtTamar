{
 "cells": [
  {
   "cell_type": "markdown",
   "metadata": {},
   "source": [
    "# 1. ***String***    \n",
    "\n",
    "# <div style=\"text-align: right\"> מילה, טקסט </div>"
   ]
  },
  {
   "cell_type": "code",
   "execution_count": null,
   "metadata": {},
   "outputs": [],
   "source": [
    "print(\"Hello World\")"
   ]
  },
  {
   "cell_type": "code",
   "execution_count": null,
   "metadata": {},
   "outputs": [],
   "source": [
    "MyName=\"Amir\"\n",
    "print(\"Hello\",MyName)"
   ]
  },
  {
   "cell_type": "code",
   "execution_count": null,
   "metadata": {},
   "outputs": [],
   "source": [
    "MyName=input(\"What is your name?\")\n",
    "print(\"Hello\",MyName)"
   ]
  },
  {
   "cell_type": "markdown",
   "metadata": {},
   "source": [
    "<div style=\"text-align: right\"> פרינט ואינפוט הן פונקציות </div>"
   ]
  },
  {
   "cell_type": "markdown",
   "metadata": {},
   "source": [
    "# 2. ***Integer*** \n",
    "# <div style=\"text-align: right\"> מספר שלם, ללא שברים או נקודה עשרונית </div>"
   ]
  },
  {
   "cell_type": "code",
   "execution_count": null,
   "metadata": {},
   "outputs": [],
   "source": [
    "5+5"
   ]
  },
  {
   "cell_type": "code",
   "execution_count": null,
   "metadata": {},
   "outputs": [],
   "source": [
    "((5 + 30) * 20) / 10"
   ]
  },
  {
   "cell_type": "code",
   "execution_count": null,
   "metadata": {},
   "outputs": [],
   "source": [
    "What_Do_I_Have=\"books\"\n",
    "How_Many=100000000000\n",
    "\n",
    "print(\"I have\" + How_Many + What_Do_I_Have)"
   ]
  },
  {
   "cell_type": "code",
   "execution_count": null,
   "metadata": {},
   "outputs": [],
   "source": [
    "What_Do_I_Have=\"books\"\n",
    "How_Many=100000000000\n",
    "\n",
    "print(\"I have \" + str(How_Many) + ' ' + What_Do_I_Have)"
   ]
  },
  {
   "cell_type": "markdown",
   "metadata": {},
   "source": [
    "# 3. \n",
    "# <div style=\"text-align: right\"> רשימת קניות </div>\n",
    "<div style=\"text-align: right\"> באולם ארועים, בכל ערב מכינים רשימת קניות ליום שלמחרת </div>\n",
    "<div style=\"text-align: right\"> עבור כל אורח מכינים מנה שכולת דג אחד ושני תפוחי אדמה </div>\n",
    "<div style=\"text-align: right\"> מנהל האולם כתב תוכנית פייתון שתעזור לו להתאים את רשימת הקניות לרשימת האורחים הצפוייה </div>"
   ]
  },
  {
   "cell_type": "code",
   "execution_count": null,
   "metadata": {},
   "outputs": [],
   "source": [
    "# כמה אורחים?\n",
    "Guests = 20\n",
    "# כמה דגים לכל אורח?\n",
    "Fish = 1\n",
    "# כמה תפוחי אדמה לכל אורח?\n",
    "Potato = 2\n",
    "\n",
    "# כמה דגים בסך הכל?\n",
    "Dagim = Fish*Guests\n",
    "# כמה תפוחי אדמה בסך הכל?\n",
    "Potatos = Potato*Guests\n",
    "\n",
    "#הדפסת רשימת הקניות \n",
    "print(\"Buy:\")\n",
    "# לפני שמדפיסים מספר, צריך להפוך אותו למילה\n",
    "print(str(Dagim) + \" Fish\")\n",
    "print(str(Potatos) + \" Potatos\")"
   ]
  },
  {
   "cell_type": "markdown",
   "metadata": {},
   "source": [
    "# 4.  <div style=\"text-align: right\"> כתוב/כתבי תוכנית לרשימת קניות משלך </div> "
   ]
  },
  {
   "cell_type": "code",
   "execution_count": null,
   "metadata": {},
   "outputs": [],
   "source": [
    "#\n",
    "#\n",
    "#\n",
    "#\n",
    "#\n",
    "#\n",
    "#\n",
    "#\n",
    "#\n",
    "#\n",
    "#\n",
    "#"
   ]
  }
 ],
 "metadata": {
  "kernelspec": {
   "display_name": "Python 3",
   "language": "python",
   "name": "python3"
  },
  "language_info": {
   "codemirror_mode": {
    "name": "ipython",
    "version": 3
   },
   "file_extension": ".py",
   "mimetype": "text/x-python",
   "name": "python",
   "nbconvert_exporter": "python",
   "pygments_lexer": "ipython3",
   "version": "3.7.4"
  }
 },
 "nbformat": 4,
 "nbformat_minor": 2
}
