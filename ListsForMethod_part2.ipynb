{
 "cells": [
  {
   "cell_type": "markdown",
   "metadata": {},
   "source": [
    "# 1. Lists \n",
    "# <div style=\"text-align: right\"> רשימות </div>"
   ]
  },
  {
   "cell_type": "code",
   "execution_count": null,
   "metadata": {},
   "outputs": [],
   "source": [
    "# רשימה של מספרים integers\n",
    "MyList = [0,1,2,3]\n",
    "# רשימה של מילים strings\n",
    "MyOtherList = [\"a\",\"b\",\"c\"]"
   ]
  },
  {
   "cell_type": "markdown",
   "metadata": {},
   "source": [
    "# 2. Loops\n",
    "# <div style=\"text-align: right\"> לולאות </div> "
   ]
  },
  {
   "cell_type": "code",
   "execution_count": null,
   "metadata": {},
   "outputs": [],
   "source": [
    "for i in MyList:\n",
    "    print(str(i))"
   ]
  },
  {
   "cell_type": "code",
   "execution_count": null,
   "metadata": {},
   "outputs": [],
   "source": [
    "for i in MyOtherList:\n",
    "    print(str(i))"
   ]
  },
  {
   "cell_type": "markdown",
   "metadata": {},
   "source": [
    "# 3. מיקום הפריטים ברשימה index\n",
    "# <div style=\"text-align: right\"> מיקום הפריטים ברשימה </div>\n",
    "<div style=\"text-align: right\"> אינדקס זו שיטה של אובייקט מסוג רשימה </div>"
   ]
  },
  {
   "cell_type": "code",
   "execution_count": null,
   "metadata": {},
   "outputs": [],
   "source": [
    "for i in MyList:\n",
    "    print(str(i) + ' ' + str(MyList.index(i)))"
   ]
  },
  {
   "cell_type": "code",
   "execution_count": null,
   "metadata": {},
   "outputs": [],
   "source": [
    "for i in MyOtherList:\n",
    "    print(str(i) + ' ' + str(MyOtherList.index(i)))"
   ]
  },
  {
   "cell_type": "code",
   "execution_count": null,
   "metadata": {},
   "outputs": [],
   "source": [
    "MyList[0]"
   ]
  },
  {
   "cell_type": "code",
   "execution_count": null,
   "metadata": {},
   "outputs": [],
   "source": [
    "MyOtherList[0]"
   ]
  },
  {
   "cell_type": "code",
   "execution_count": null,
   "metadata": {},
   "outputs": [],
   "source": [
    "MyList[2]"
   ]
  },
  {
   "cell_type": "code",
   "execution_count": null,
   "metadata": {},
   "outputs": [],
   "source": [
    "MyOtherList[2]"
   ]
  },
  {
   "cell_type": "markdown",
   "metadata": {},
   "source": [
    "<div style=\"text-align: right\"> הפריטים ברשימה ממוספרים לפי המיקום שלהם ברשימה </div>\n",
    "<div style=\"text-align: right\"> אפשר לשלוף פריט מסויים לפי המיספור של המיקום שלו </div>\n",
    "<div style=\"text-align: right\"> המיספור מתחיל מ 0 </div>"
   ]
  },
  {
   "cell_type": "markdown",
   "metadata": {},
   "source": [
    "# 4. <div style=\"text-align: right\"> רשימת האהבה </div>\n",
    "<div style=\"text-align: right\"> הכן רשימה של דברים שאת/ה אוהב/ת </div>\n",
    "<div style=\"text-align: right\"> עבור כל פריט ברשימה, הדפס/י טקסט שאומר זאת </div>\n",
    "<div style=\"text-align: right\"> מצא/י את האינדקס של הפריט האת/ה הכי אוהב/ת </div>\n",
    "<div style=\"text-align: right\"> הדפס/י פריט זה </div>"
   ]
  },
  {
   "cell_type": "code",
   "execution_count": null,
   "metadata": {},
   "outputs": [],
   "source": [
    "# רמז 1\n",
    "Things_I_love = []\n",
    "\n",
    "# רמז 2\n",
    "for thing in Things_I_love:\n",
    "    # Do something\n"
   ]
  }
 ],
 "metadata": {
  "kernelspec": {
   "display_name": "Python 3",
   "language": "python",
   "name": "python3"
  },
  "language_info": {
   "codemirror_mode": {
    "name": "ipython",
    "version": 3
   },
   "file_extension": ".py",
   "mimetype": "text/x-python",
   "name": "python",
   "nbconvert_exporter": "python",
   "pygments_lexer": "ipython3",
   "version": "3.7.3"
  }
 },
 "nbformat": 4,
 "nbformat_minor": 2
}
